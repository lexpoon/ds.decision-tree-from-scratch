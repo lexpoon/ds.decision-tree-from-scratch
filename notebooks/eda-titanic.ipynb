{
 "cells": [
  {
   "cell_type": "markdown",
   "id": "024184e5",
   "metadata": {},
   "source": [
    "# 1. Import Packages"
   ]
  },
  {
   "cell_type": "markdown",
   "id": "11fa4be4",
   "metadata": {},
   "source": [
    "## 1.1 Set the root and data path"
   ]
  },
  {
   "cell_type": "code",
   "execution_count": 22,
   "id": "ece762e9",
   "metadata": {},
   "outputs": [],
   "source": [
    "import os\n",
    "import sys\n",
    "\n",
    "ROOTPATH = os.path.abspath(os.path.join(os.getcwd(), '..')) + os.sep\n",
    "DATAPATH = os.path.join(ROOTPATH, 'data') + os.sep\n",
    "\n",
    "sys.path.append(ROOTPATH)\n"
   ]
  },
  {
   "cell_type": "code",
   "execution_count": 23,
   "id": "731675d5",
   "metadata": {},
   "outputs": [],
   "source": [
    "import polars as pl"
   ]
  },
  {
   "cell_type": "markdown",
   "id": "70ad531f",
   "metadata": {},
   "source": [
    "# 2. Load Dataset"
   ]
  },
  {
   "cell_type": "code",
   "execution_count": 25,
   "id": "f24e3eaf",
   "metadata": {},
   "outputs": [],
   "source": [
    "df = pl.read_parquet(DATAPATH + \"titanic.parquet\")"
   ]
  },
  {
   "cell_type": "code",
   "execution_count": 26,
   "id": "c63ba685",
   "metadata": {},
   "outputs": [
    {
     "data": {
      "text/html": [
       "<div><style>\n",
       ".dataframe > thead > tr,\n",
       ".dataframe > tbody > tr {\n",
       "  text-align: right;\n",
       "  white-space: pre-wrap;\n",
       "}\n",
       "</style>\n",
       "<small>shape: (5, 15)</small><table border=\"1\" class=\"dataframe\"><thead><tr><th>survived</th><th>pclass</th><th>sex</th><th>age</th><th>sibsp</th><th>parch</th><th>fare</th><th>embarked</th><th>class</th><th>who</th><th>adult_male</th><th>deck</th><th>embark_town</th><th>alive</th><th>alone</th></tr><tr><td>i64</td><td>i64</td><td>str</td><td>f64</td><td>i64</td><td>i64</td><td>f64</td><td>str</td><td>cat</td><td>str</td><td>bool</td><td>cat</td><td>str</td><td>str</td><td>bool</td></tr></thead><tbody><tr><td>0</td><td>3</td><td>&quot;male&quot;</td><td>22.0</td><td>1</td><td>0</td><td>7.25</td><td>&quot;S&quot;</td><td>&quot;Third&quot;</td><td>&quot;man&quot;</td><td>true</td><td>null</td><td>&quot;Southampton&quot;</td><td>&quot;no&quot;</td><td>false</td></tr><tr><td>1</td><td>1</td><td>&quot;female&quot;</td><td>38.0</td><td>1</td><td>0</td><td>71.2833</td><td>&quot;C&quot;</td><td>&quot;First&quot;</td><td>&quot;woman&quot;</td><td>false</td><td>&quot;C&quot;</td><td>&quot;Cherbourg&quot;</td><td>&quot;yes&quot;</td><td>false</td></tr><tr><td>1</td><td>3</td><td>&quot;female&quot;</td><td>26.0</td><td>0</td><td>0</td><td>7.925</td><td>&quot;S&quot;</td><td>&quot;Third&quot;</td><td>&quot;woman&quot;</td><td>false</td><td>null</td><td>&quot;Southampton&quot;</td><td>&quot;yes&quot;</td><td>true</td></tr><tr><td>1</td><td>1</td><td>&quot;female&quot;</td><td>35.0</td><td>1</td><td>0</td><td>53.1</td><td>&quot;S&quot;</td><td>&quot;First&quot;</td><td>&quot;woman&quot;</td><td>false</td><td>&quot;C&quot;</td><td>&quot;Southampton&quot;</td><td>&quot;yes&quot;</td><td>false</td></tr><tr><td>0</td><td>3</td><td>&quot;male&quot;</td><td>35.0</td><td>0</td><td>0</td><td>8.05</td><td>&quot;S&quot;</td><td>&quot;Third&quot;</td><td>&quot;man&quot;</td><td>true</td><td>null</td><td>&quot;Southampton&quot;</td><td>&quot;no&quot;</td><td>true</td></tr></tbody></table></div>"
      ],
      "text/plain": [
       "shape: (5, 15)\n",
       "┌──────────┬────────┬────────┬──────┬───┬──────┬─────────────┬───────┬───────┐\n",
       "│ survived ┆ pclass ┆ sex    ┆ age  ┆ … ┆ deck ┆ embark_town ┆ alive ┆ alone │\n",
       "│ ---      ┆ ---    ┆ ---    ┆ ---  ┆   ┆ ---  ┆ ---         ┆ ---   ┆ ---   │\n",
       "│ i64      ┆ i64    ┆ str    ┆ f64  ┆   ┆ cat  ┆ str         ┆ str   ┆ bool  │\n",
       "╞══════════╪════════╪════════╪══════╪═══╪══════╪═════════════╪═══════╪═══════╡\n",
       "│ 0        ┆ 3      ┆ male   ┆ 22.0 ┆ … ┆ null ┆ Southampton ┆ no    ┆ false │\n",
       "│ 1        ┆ 1      ┆ female ┆ 38.0 ┆ … ┆ C    ┆ Cherbourg   ┆ yes   ┆ false │\n",
       "│ 1        ┆ 3      ┆ female ┆ 26.0 ┆ … ┆ null ┆ Southampton ┆ yes   ┆ true  │\n",
       "│ 1        ┆ 1      ┆ female ┆ 35.0 ┆ … ┆ C    ┆ Southampton ┆ yes   ┆ false │\n",
       "│ 0        ┆ 3      ┆ male   ┆ 35.0 ┆ … ┆ null ┆ Southampton ┆ no    ┆ true  │\n",
       "└──────────┴────────┴────────┴──────┴───┴──────┴─────────────┴───────┴───────┘"
      ]
     },
     "execution_count": 26,
     "metadata": {},
     "output_type": "execute_result"
    }
   ],
   "source": [
    "df.head()"
   ]
  },
  {
   "cell_type": "markdown",
   "id": "7d5eaac6",
   "metadata": {},
   "source": [
    "## 3. EDA"
   ]
  },
  {
   "cell_type": "code",
   "execution_count": 45,
   "id": "a8e0c94e",
   "metadata": {},
   "outputs": [
    {
     "data": {
      "text/plain": [
       "(891, 15)"
      ]
     },
     "execution_count": 45,
     "metadata": {},
     "output_type": "execute_result"
    }
   ],
   "source": [
    "df.shape"
   ]
  },
  {
   "cell_type": "code",
   "execution_count": 46,
   "id": "4a319956",
   "metadata": {},
   "outputs": [
    {
     "data": {
      "text/html": [
       "<div><style>\n",
       ".dataframe > thead > tr,\n",
       ".dataframe > tbody > tr {\n",
       "  text-align: right;\n",
       "  white-space: pre-wrap;\n",
       "}\n",
       "</style>\n",
       "<small>shape: (9, 16)</small><table border=\"1\" class=\"dataframe\"><thead><tr><th>statistic</th><th>survived</th><th>pclass</th><th>sex</th><th>age</th><th>sibsp</th><th>parch</th><th>fare</th><th>embarked</th><th>class</th><th>who</th><th>adult_male</th><th>deck</th><th>embark_town</th><th>alive</th><th>alone</th></tr><tr><td>str</td><td>f64</td><td>f64</td><td>str</td><td>f64</td><td>f64</td><td>f64</td><td>f64</td><td>str</td><td>str</td><td>str</td><td>f64</td><td>str</td><td>str</td><td>str</td><td>f64</td></tr></thead><tbody><tr><td>&quot;count&quot;</td><td>891.0</td><td>891.0</td><td>&quot;891&quot;</td><td>714.0</td><td>891.0</td><td>891.0</td><td>891.0</td><td>&quot;889&quot;</td><td>&quot;891&quot;</td><td>&quot;891&quot;</td><td>891.0</td><td>&quot;203&quot;</td><td>&quot;889&quot;</td><td>&quot;891&quot;</td><td>891.0</td></tr><tr><td>&quot;null_count&quot;</td><td>0.0</td><td>0.0</td><td>&quot;0&quot;</td><td>177.0</td><td>0.0</td><td>0.0</td><td>0.0</td><td>&quot;2&quot;</td><td>&quot;0&quot;</td><td>&quot;0&quot;</td><td>0.0</td><td>&quot;688&quot;</td><td>&quot;2&quot;</td><td>&quot;0&quot;</td><td>0.0</td></tr><tr><td>&quot;mean&quot;</td><td>0.383838</td><td>2.308642</td><td>null</td><td>29.699118</td><td>0.523008</td><td>0.381594</td><td>32.204208</td><td>null</td><td>null</td><td>null</td><td>0.602694</td><td>null</td><td>null</td><td>null</td><td>0.602694</td></tr><tr><td>&quot;std&quot;</td><td>0.486592</td><td>0.836071</td><td>null</td><td>14.526497</td><td>1.102743</td><td>0.806057</td><td>49.693429</td><td>null</td><td>null</td><td>null</td><td>null</td><td>null</td><td>null</td><td>null</td><td>null</td></tr><tr><td>&quot;min&quot;</td><td>0.0</td><td>1.0</td><td>&quot;female&quot;</td><td>0.42</td><td>0.0</td><td>0.0</td><td>0.0</td><td>&quot;C&quot;</td><td>null</td><td>&quot;child&quot;</td><td>0.0</td><td>null</td><td>&quot;Cherbourg&quot;</td><td>&quot;no&quot;</td><td>0.0</td></tr><tr><td>&quot;25%&quot;</td><td>0.0</td><td>2.0</td><td>null</td><td>20.0</td><td>0.0</td><td>0.0</td><td>7.925</td><td>null</td><td>null</td><td>null</td><td>null</td><td>null</td><td>null</td><td>null</td><td>null</td></tr><tr><td>&quot;50%&quot;</td><td>0.0</td><td>3.0</td><td>null</td><td>28.0</td><td>0.0</td><td>0.0</td><td>14.4542</td><td>null</td><td>null</td><td>null</td><td>null</td><td>null</td><td>null</td><td>null</td><td>null</td></tr><tr><td>&quot;75%&quot;</td><td>1.0</td><td>3.0</td><td>null</td><td>38.0</td><td>1.0</td><td>0.0</td><td>31.0</td><td>null</td><td>null</td><td>null</td><td>null</td><td>null</td><td>null</td><td>null</td><td>null</td></tr><tr><td>&quot;max&quot;</td><td>1.0</td><td>3.0</td><td>&quot;male&quot;</td><td>80.0</td><td>8.0</td><td>6.0</td><td>512.3292</td><td>&quot;S&quot;</td><td>null</td><td>&quot;woman&quot;</td><td>1.0</td><td>null</td><td>&quot;Southampton&quot;</td><td>&quot;yes&quot;</td><td>1.0</td></tr></tbody></table></div>"
      ],
      "text/plain": [
       "shape: (9, 16)\n",
       "┌────────────┬──────────┬──────────┬────────┬───┬──────┬─────────────┬───────┬──────────┐\n",
       "│ statistic  ┆ survived ┆ pclass   ┆ sex    ┆ … ┆ deck ┆ embark_town ┆ alive ┆ alone    │\n",
       "│ ---        ┆ ---      ┆ ---      ┆ ---    ┆   ┆ ---  ┆ ---         ┆ ---   ┆ ---      │\n",
       "│ str        ┆ f64      ┆ f64      ┆ str    ┆   ┆ str  ┆ str         ┆ str   ┆ f64      │\n",
       "╞════════════╪══════════╪══════════╪════════╪═══╪══════╪═════════════╪═══════╪══════════╡\n",
       "│ count      ┆ 891.0    ┆ 891.0    ┆ 891    ┆ … ┆ 203  ┆ 889         ┆ 891   ┆ 891.0    │\n",
       "│ null_count ┆ 0.0      ┆ 0.0      ┆ 0      ┆ … ┆ 688  ┆ 2           ┆ 0     ┆ 0.0      │\n",
       "│ mean       ┆ 0.383838 ┆ 2.308642 ┆ null   ┆ … ┆ null ┆ null        ┆ null  ┆ 0.602694 │\n",
       "│ std        ┆ 0.486592 ┆ 0.836071 ┆ null   ┆ … ┆ null ┆ null        ┆ null  ┆ null     │\n",
       "│ min        ┆ 0.0      ┆ 1.0      ┆ female ┆ … ┆ null ┆ Cherbourg   ┆ no    ┆ 0.0      │\n",
       "│ 25%        ┆ 0.0      ┆ 2.0      ┆ null   ┆ … ┆ null ┆ null        ┆ null  ┆ null     │\n",
       "│ 50%        ┆ 0.0      ┆ 3.0      ┆ null   ┆ … ┆ null ┆ null        ┆ null  ┆ null     │\n",
       "│ 75%        ┆ 1.0      ┆ 3.0      ┆ null   ┆ … ┆ null ┆ null        ┆ null  ┆ null     │\n",
       "│ max        ┆ 1.0      ┆ 3.0      ┆ male   ┆ … ┆ null ┆ Southampton ┆ yes   ┆ 1.0      │\n",
       "└────────────┴──────────┴──────────┴────────┴───┴──────┴─────────────┴───────┴──────────┘"
      ]
     },
     "execution_count": 46,
     "metadata": {},
     "output_type": "execute_result"
    }
   ],
   "source": [
    "df.describe()"
   ]
  }
 ],
 "metadata": {
  "kernelspec": {
   "display_name": "venv",
   "language": "python",
   "name": "python3"
  },
  "language_info": {
   "codemirror_mode": {
    "name": "ipython",
    "version": 3
   },
   "file_extension": ".py",
   "mimetype": "text/x-python",
   "name": "python",
   "nbconvert_exporter": "python",
   "pygments_lexer": "ipython3",
   "version": "3.12.8"
  }
 },
 "nbformat": 4,
 "nbformat_minor": 5
}
